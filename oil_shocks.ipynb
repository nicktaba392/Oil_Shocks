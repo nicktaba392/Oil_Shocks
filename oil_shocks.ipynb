{
 "cells": [
  {
   "cell_type": "code",
   "execution_count": 28,
   "metadata": {},
   "outputs": [],
   "source": [
    "import numpy as np\n",
    "import pandas as pd\n",
    "import matplotlib.pyplot as plt\n",
    "import plotly.graph_objects as go\n",
    "import plotly.io as pio\n",
    "import datetime as dt\n",
    "from statsmodels.tsa.vector_ar.svar_model import SVAR,SVARResults\n",
    "from statsmodels.tsa.arima.model import ARIMA\n",
    "np.set_printoptions(suppress=True)"
   ]
  },
  {
   "cell_type": "code",
   "execution_count": 4,
   "metadata": {},
   "outputs": [
    {
     "name": "stdout",
     "output_type": "stream",
     "text": [
      "            CL1 Comdty  VIX Index  SPGOGUP Index\n",
      "Dates                                           \n",
      "2000-08-31   33.120000  16.840000    1000.000000\n",
      "2000-09-30   33.843810  19.584762    1012.718571\n",
      "2000-10-31   32.932273  25.200000     991.575000\n",
      "2000-11-30   34.366364  26.443182     965.590000\n",
      "2000-12-31   28.292857  26.579048     951.973333\n",
      "            Oil Return  Oil_and_Gas_Producers       VIX\n",
      "Dates                                                  \n",
      "2005-03-31    0.128126               0.047681  0.256350\n",
      "2005-04-30   -0.026353              -0.027281 -0.152651\n",
      "2005-05-31   -0.063149              -0.030208 -1.696425\n",
      "2005-06-30    0.121575               0.070683 -2.988402\n",
      "2005-07-31    0.044940               0.054450 -1.972985\n"
     ]
    }
   ],
   "source": [
    "df = pd.read_excel('oil_and_gas_index.xlsx')\n",
    "df = df.dropna()\n",
    "df = df.resample('M', on='Dates').mean()\n",
    "print(df.head())\n",
    "df1 = pd.DataFrame()\n",
    "df1.index = df.index\n",
    "df1['Oil Return'] = np.log(df['CL1 Comdty']).diff().dropna()\n",
    "df1['Oil_and_Gas_Producers'] = np.log(df['SPGOGUP Index']).diff().dropna()\n",
    "model = ARIMA(df['VIX Index'],order=(1,0,1)).fit()\n",
    "VIX_resid = model.resid\n",
    "df1['VIX'] = VIX_resid\n",
    "df1 = df1.dropna()\n",
    "df1 = df1['2005-03-31':]\n",
    "print(df1.head())"
   ]
  },
  {
   "cell_type": "code",
   "execution_count": 5,
   "metadata": {},
   "outputs": [
    {
     "name": "stderr",
     "output_type": "stream",
     "text": [
      "c:\\Users\\saeed\\AppData\\Local\\Programs\\Python\\Python310\\lib\\site-packages\\statsmodels\\base\\model.py:604: ConvergenceWarning: Maximum Likelihood optimization failed to converge. Check mle_retvals\n",
      "  warnings.warn(\"Maximum Likelihood optimization failed to \"\n"
     ]
    },
    {
     "name": "stdout",
     "output_type": "stream",
     "text": [
      "DatetimeIndex(['2000-12-31', '2001-01-31', '2001-02-28', '2001-03-31',\n",
      "               '2001-04-30', '2001-05-31', '2001-06-30', '2001-07-31',\n",
      "               '2001-08-31', '2001-09-30',\n",
      "               ...\n",
      "               '2022-11-30', '2022-12-31', '2023-01-31', '2023-02-28',\n",
      "               '2023-03-31', '2023-04-30', '2023-05-31', '2023-06-30',\n",
      "               '2023-07-31', '2023-08-31'],\n",
      "              dtype='datetime64[ns]', name='Dates', length=273, freq='M')\n"
     ]
    }
   ],
   "source": [
    "A = np.asarray([[1,1,1],[0,'E','E'],[0,0,'E']])\n",
    "svar_model = SVAR(df1,svar_type='A',A=A)\n",
    "res = svar_model.fit(maxlags=3, maxiter=10000, maxfun=10000, solver='bfgs')\n",
    "resid = res.resid\n",
    "\n",
    "dates = df.index[4:]\n",
    "print(dates)\n",
    "supply_shock = []\n",
    "demand_shock = []\n",
    "market_shock = []\n",
    "for i in range(len(resid)):\n",
    "    supply_shock.append(resid[i][0])\n",
    "    demand_shock.append(resid[i][1])\n",
    "    market_shock.append(resid[i][2])\n",
    "\n",
    "pio.renderers.default = \"browser\"\n",
    "\n",
    "fig = go.Figure(go.Scatter(x=dates,y=supply_shock))\n",
    "fig.show()"
   ]
  },
  {
   "cell_type": "code",
   "execution_count": 6,
   "metadata": {},
   "outputs": [],
   "source": [
    "fig = go.Figure(go.Scatter(x=dates,y=demand_shock))\n",
    "fig.show()"
   ]
  },
  {
   "cell_type": "code",
   "execution_count": 7,
   "metadata": {},
   "outputs": [],
   "source": [
    "fig = go.Figure(go.Scatter(x=dates,y=market_shock))\n",
    "fig.show()"
   ]
  },
  {
   "cell_type": "code",
   "execution_count": 8,
   "metadata": {},
   "outputs": [
    {
     "data": {
      "text/plain": [
       "array([[ 1.        ,  0.66529889, -0.37441816],\n",
       "       [ 0.66529889,  1.        , -0.7430562 ],\n",
       "       [-0.37441816, -0.7430562 ,  1.        ]])"
      ]
     },
     "execution_count": 8,
     "metadata": {},
     "output_type": "execute_result"
    }
   ],
   "source": [
    "shocks = np.array([supply_shock,demand_shock,market_shock])\n",
    "corr = np.corrcoef(shocks)\n",
    "corr"
   ]
  },
  {
   "cell_type": "code",
   "execution_count": 9,
   "metadata": {},
   "outputs": [
    {
     "data": {
      "text/html": [
       "<div>\n",
       "<style scoped>\n",
       "    .dataframe tbody tr th:only-of-type {\n",
       "        vertical-align: middle;\n",
       "    }\n",
       "\n",
       "    .dataframe tbody tr th {\n",
       "        vertical-align: top;\n",
       "    }\n",
       "\n",
       "    .dataframe thead th {\n",
       "        text-align: right;\n",
       "    }\n",
       "</style>\n",
       "<table border=\"1\" class=\"dataframe\">\n",
       "  <thead>\n",
       "    <tr style=\"text-align: right;\">\n",
       "      <th></th>\n",
       "      <th>Oil Return</th>\n",
       "      <th>Oil_and_Gas_Producers</th>\n",
       "      <th>VIX</th>\n",
       "    </tr>\n",
       "    <tr>\n",
       "      <th>Dates</th>\n",
       "      <th></th>\n",
       "      <th></th>\n",
       "      <th></th>\n",
       "    </tr>\n",
       "  </thead>\n",
       "  <tbody>\n",
       "    <tr>\n",
       "      <th>2023-04-30</th>\n",
       "      <td>0.080225</td>\n",
       "      <td>0.043207</td>\n",
       "      <td>-3.702612</td>\n",
       "    </tr>\n",
       "    <tr>\n",
       "      <th>2023-05-31</th>\n",
       "      <td>-0.103752</td>\n",
       "      <td>-0.059271</td>\n",
       "      <td>0.005067</td>\n",
       "    </tr>\n",
       "    <tr>\n",
       "      <th>2023-06-30</th>\n",
       "      <td>-0.018644</td>\n",
       "      <td>0.009124</td>\n",
       "      <td>-4.113150</td>\n",
       "    </tr>\n",
       "    <tr>\n",
       "      <th>2023-07-31</th>\n",
       "      <td>0.073889</td>\n",
       "      <td>0.039637</td>\n",
       "      <td>-0.593096</td>\n",
       "    </tr>\n",
       "    <tr>\n",
       "      <th>2023-08-31</th>\n",
       "      <td>0.069523</td>\n",
       "      <td>0.032290</td>\n",
       "      <td>0.879804</td>\n",
       "    </tr>\n",
       "  </tbody>\n",
       "</table>\n",
       "</div>"
      ],
      "text/plain": [
       "            Oil Return  Oil_and_Gas_Producers       VIX\n",
       "Dates                                                  \n",
       "2023-04-30    0.080225               0.043207 -3.702612\n",
       "2023-05-31   -0.103752              -0.059271  0.005067\n",
       "2023-06-30   -0.018644               0.009124 -4.113150\n",
       "2023-07-31    0.073889               0.039637 -0.593096\n",
       "2023-08-31    0.069523               0.032290  0.879804"
      ]
     },
     "execution_count": 9,
     "metadata": {},
     "output_type": "execute_result"
    }
   ],
   "source": [
    "df1.tail()\n"
   ]
  },
  {
   "cell_type": "code",
   "execution_count": 10,
   "metadata": {},
   "outputs": [
    {
     "name": "stdout",
     "output_type": "stream",
     "text": [
      "            Oil Return  Oil_and_Gas_Producers       VIX\n",
      "Dates                                                  \n",
      "2005-03-31    0.128126               0.047681  0.256350\n",
      "2005-04-30   -0.026353              -0.027281 -0.152651\n",
      "2005-05-31   -0.063149              -0.030208 -1.696425\n",
      "2005-06-30    0.121575               0.070683 -2.988402\n",
      "2005-07-31    0.044940               0.054450 -1.972985\n",
      "                                  OLS Regression Results                                  \n",
      "==========================================================================================\n",
      "Dep. Variable:     Oil_and_Gas_Producers   R-squared (uncentered):                   0.498\n",
      "Model:                               OLS   Adj. R-squared (uncentered):              0.496\n",
      "Method:                    Least Squares   F-statistic:                              219.2\n",
      "Date:                   Wed, 01 May 2024   Prob (F-statistic):                    6.44e-35\n",
      "Time:                           09:17:49   Log-Likelihood:                          374.66\n",
      "No. Observations:                    222   AIC:                                     -747.3\n",
      "Df Residuals:                        221   BIC:                                     -743.9\n",
      "Df Model:                              1                                                  \n",
      "Covariance Type:               nonrobust                                                  \n",
      "==============================================================================\n",
      "                 coef    std err          t      P>|t|      [0.025      0.975]\n",
      "------------------------------------------------------------------------------\n",
      "VIX           -0.0096      0.001    -14.806      0.000      -0.011      -0.008\n",
      "==============================================================================\n",
      "Omnibus:                        0.931   Durbin-Watson:                   1.566\n",
      "Prob(Omnibus):                  0.628   Jarque-Bera (JB):                0.891\n",
      "Skew:                          -0.154   Prob(JB):                        0.640\n",
      "Kurtosis:                       2.959   Cond. No.                         1.00\n",
      "==============================================================================\n",
      "\n",
      "Notes:\n",
      "[1] R² is computed without centering (uncentered) since the model does not contain a constant.\n",
      "[2] Standard Errors assume that the covariance matrix of the errors is correctly specified.\n"
     ]
    }
   ],
   "source": [
    "import statsmodels.api as sm\n",
    "print(df1.head())\n",
    "mod = sm.OLS( df1['Oil_and_Gas_Producers'],df1['VIX']).fit()\n",
    "#model_reg.fit(np.array(df1['VIX']).reshape(-1,1),np.array(df1['Oil_and_Gas_Producers']).reshape(-1,1))\n",
    "print(mod.summary())\n",
    "fig = go.Figure(go.Scatter(x=dates,y=mod.resid))\n",
    "fig.show()\n",
    "\n",
    "df1['Demand_Shock'] = mod.resid\n"
   ]
  },
  {
   "cell_type": "code",
   "execution_count": 15,
   "metadata": {},
   "outputs": [
    {
     "name": "stdout",
     "output_type": "stream",
     "text": [
      "                                 OLS Regression Results                                \n",
      "=======================================================================================\n",
      "Dep. Variable:             Oil Return   R-squared (uncentered):                   0.482\n",
      "Model:                            OLS   Adj. R-squared (uncentered):              0.477\n",
      "Method:                 Least Squares   F-statistic:                              102.3\n",
      "Date:                Wed, 01 May 2024   Prob (F-statistic):                    3.91e-32\n",
      "Time:                        09:23:30   Log-Likelihood:                          251.57\n",
      "No. Observations:                 222   AIC:                                     -499.1\n",
      "Df Residuals:                     220   BIC:                                     -492.3\n",
      "Df Model:                           2                                                  \n",
      "Covariance Type:            nonrobust                                                  \n",
      "================================================================================\n",
      "                   coef    std err          t      P>|t|      [0.025      0.975]\n",
      "--------------------------------------------------------------------------------\n",
      "VIX             -0.0072      0.001     -6.374      0.000      -0.009      -0.005\n",
      "Demand_Shock     1.5029      0.117     12.804      0.000       1.272       1.734\n",
      "==============================================================================\n",
      "Omnibus:                       71.468   Durbin-Watson:                   1.974\n",
      "Prob(Omnibus):                  0.000   Jarque-Bera (JB):             1510.162\n",
      "Skew:                          -0.621   Prob(JB):                         0.00\n",
      "Kurtosis:                      15.717   Cond. No.                         104.\n",
      "==============================================================================\n",
      "\n",
      "Notes:\n",
      "[1] R² is computed without centering (uncentered) since the model does not contain a constant.\n",
      "[2] Standard Errors assume that the covariance matrix of the errors is correctly specified.\n",
      "[[ 1.      0.7198  0.6213 -0.3091]\n",
      " [ 0.7198  1.     -0.0002  0.0002]\n",
      " [ 0.6213 -0.0002  1.      0.0002]\n",
      " [-0.3091  0.0002  0.0002  1.    ]]\n"
     ]
    },
    {
     "data": {
      "text/html": [
       "<div>\n",
       "<style scoped>\n",
       "    .dataframe tbody tr th:only-of-type {\n",
       "        vertical-align: middle;\n",
       "    }\n",
       "\n",
       "    .dataframe tbody tr th {\n",
       "        vertical-align: top;\n",
       "    }\n",
       "\n",
       "    .dataframe thead th {\n",
       "        text-align: right;\n",
       "    }\n",
       "</style>\n",
       "<table border=\"1\" class=\"dataframe\">\n",
       "  <thead>\n",
       "    <tr style=\"text-align: right;\">\n",
       "      <th></th>\n",
       "      <th>Oil Return</th>\n",
       "      <th>Oil_and_Gas_Producers</th>\n",
       "      <th>VIX</th>\n",
       "      <th>Demand_Shock</th>\n",
       "      <th>Supply_Shock</th>\n",
       "    </tr>\n",
       "    <tr>\n",
       "      <th>Dates</th>\n",
       "      <th></th>\n",
       "      <th></th>\n",
       "      <th></th>\n",
       "      <th></th>\n",
       "      <th></th>\n",
       "    </tr>\n",
       "  </thead>\n",
       "  <tbody>\n",
       "    <tr>\n",
       "      <th>2005-03-31</th>\n",
       "      <td>0.128126</td>\n",
       "      <td>0.047681</td>\n",
       "      <td>0.256350</td>\n",
       "      <td>0.050138</td>\n",
       "      <td>0.054619</td>\n",
       "    </tr>\n",
       "    <tr>\n",
       "      <th>2005-04-30</th>\n",
       "      <td>-0.026353</td>\n",
       "      <td>-0.027281</td>\n",
       "      <td>-0.152651</td>\n",
       "      <td>-0.028744</td>\n",
       "      <td>0.015748</td>\n",
       "    </tr>\n",
       "    <tr>\n",
       "      <th>2005-05-31</th>\n",
       "      <td>-0.063149</td>\n",
       "      <td>-0.030208</td>\n",
       "      <td>-1.696425</td>\n",
       "      <td>-0.046464</td>\n",
       "      <td>-0.005530</td>\n",
       "    </tr>\n",
       "    <tr>\n",
       "      <th>2005-06-30</th>\n",
       "      <td>0.121575</td>\n",
       "      <td>0.070683</td>\n",
       "      <td>-2.988402</td>\n",
       "      <td>0.042047</td>\n",
       "      <td>0.036872</td>\n",
       "    </tr>\n",
       "    <tr>\n",
       "      <th>2005-07-31</th>\n",
       "      <td>0.044940</td>\n",
       "      <td>0.054450</td>\n",
       "      <td>-1.972985</td>\n",
       "      <td>0.035543</td>\n",
       "      <td>-0.022680</td>\n",
       "    </tr>\n",
       "  </tbody>\n",
       "</table>\n",
       "</div>"
      ],
      "text/plain": [
       "            Oil Return  Oil_and_Gas_Producers       VIX  Demand_Shock  \\\n",
       "Dates                                                                   \n",
       "2005-03-31    0.128126               0.047681  0.256350      0.050138   \n",
       "2005-04-30   -0.026353              -0.027281 -0.152651     -0.028744   \n",
       "2005-05-31   -0.063149              -0.030208 -1.696425     -0.046464   \n",
       "2005-06-30    0.121575               0.070683 -2.988402      0.042047   \n",
       "2005-07-31    0.044940               0.054450 -1.972985      0.035543   \n",
       "\n",
       "            Supply_Shock  \n",
       "Dates                     \n",
       "2005-03-31      0.054619  \n",
       "2005-04-30      0.015748  \n",
       "2005-05-31     -0.005530  \n",
       "2005-06-30      0.036872  \n",
       "2005-07-31     -0.022680  "
      ]
     },
     "execution_count": 15,
     "metadata": {},
     "output_type": "execute_result"
    }
   ],
   "source": [
    "mod1 = sm.OLS( df1['Oil Return'],df1[['VIX','Demand_Shock']]).fit()\n",
    "#model_reg.fit(np.array(df1['VIX']).reshape(-1,1),np.array(df1['Oil_and_Gas_Producers']).reshape(-1,1))\n",
    "#print(mod1.summary())\n",
    "\n",
    "print(mod1.summary())\n",
    "df1['Supply_Shock'] = mod1.resid\n",
    "#print(np.corrcoef([df['Oil_and_Gas_Producers']]))\n",
    "print(np.round(np.corrcoef([df1['Oil Return'],mod1.resid,mod.resid,df1['VIX']]),4))\n",
    "fig = go.Figure(go.Scatter(x=dates,y=mod1.resid))\n",
    "fig.show()\n",
    "df1.head()"
   ]
  },
  {
   "cell_type": "code",
   "execution_count": 12,
   "metadata": {},
   "outputs": [],
   "source": [
    "df1.to_excel('Monthly_Results.xlsx')"
   ]
  },
  {
   "cell_type": "code",
   "execution_count": 21,
   "metadata": {},
   "outputs": [
    {
     "name": "stdout",
     "output_type": "stream",
     "text": [
      "[*********************100%***********************]  1 of 1 completed\n"
     ]
    },
    {
     "data": {
      "text/plain": [
       "Date\n",
       "1998-12-31 00:00:00-05:00   -0.002194\n",
       "1999-01-04 00:00:00-05:00   -0.000920\n",
       "1999-01-05 00:00:00-05:00    0.013491\n",
       "1999-01-06 00:00:00-05:00    0.021899\n",
       "1999-01-07 00:00:00-05:00   -0.002053\n",
       "Name: Adj Close, dtype: float64"
      ]
     },
     "execution_count": 21,
     "metadata": {},
     "output_type": "execute_result"
    }
   ],
   "source": [
    "dataset  = yf.download('^GSPC',start = '1998-12-30',end = '2023-08-30')\n",
    "market_index = dataset['Adj Close']\n",
    "market_return = np.log(market_index/market_index.shift(1)).dropna()\n",
    "market_return.head()"
   ]
  },
  {
   "cell_type": "code",
   "execution_count": 22,
   "metadata": {},
   "outputs": [
    {
     "data": {
      "text/html": [
       "<div>\n",
       "<style scoped>\n",
       "    .dataframe tbody tr th:only-of-type {\n",
       "        vertical-align: middle;\n",
       "    }\n",
       "\n",
       "    .dataframe tbody tr th {\n",
       "        vertical-align: top;\n",
       "    }\n",
       "\n",
       "    .dataframe thead th {\n",
       "        text-align: right;\n",
       "    }\n",
       "</style>\n",
       "<table border=\"1\" class=\"dataframe\">\n",
       "  <thead>\n",
       "    <tr style=\"text-align: right;\">\n",
       "      <th></th>\n",
       "      <th>Oil Return</th>\n",
       "      <th>Oil_and_Gas_Producers</th>\n",
       "      <th>VIX</th>\n",
       "      <th>Demand_Shock</th>\n",
       "      <th>Supply_Shock</th>\n",
       "    </tr>\n",
       "    <tr>\n",
       "      <th>Dates</th>\n",
       "      <th></th>\n",
       "      <th></th>\n",
       "      <th></th>\n",
       "      <th></th>\n",
       "      <th></th>\n",
       "    </tr>\n",
       "  </thead>\n",
       "  <tbody>\n",
       "    <tr>\n",
       "      <th>2005-03-31</th>\n",
       "      <td>0.128126</td>\n",
       "      <td>0.047681</td>\n",
       "      <td>0.256350</td>\n",
       "      <td>0.050138</td>\n",
       "      <td>0.054619</td>\n",
       "    </tr>\n",
       "    <tr>\n",
       "      <th>2005-04-30</th>\n",
       "      <td>-0.026353</td>\n",
       "      <td>-0.027281</td>\n",
       "      <td>-0.152651</td>\n",
       "      <td>-0.028744</td>\n",
       "      <td>0.015748</td>\n",
       "    </tr>\n",
       "    <tr>\n",
       "      <th>2005-05-31</th>\n",
       "      <td>-0.063149</td>\n",
       "      <td>-0.030208</td>\n",
       "      <td>-1.696425</td>\n",
       "      <td>-0.046464</td>\n",
       "      <td>-0.005530</td>\n",
       "    </tr>\n",
       "    <tr>\n",
       "      <th>2005-06-30</th>\n",
       "      <td>0.121575</td>\n",
       "      <td>0.070683</td>\n",
       "      <td>-2.988402</td>\n",
       "      <td>0.042047</td>\n",
       "      <td>0.036872</td>\n",
       "    </tr>\n",
       "    <tr>\n",
       "      <th>2005-07-31</th>\n",
       "      <td>0.044940</td>\n",
       "      <td>0.054450</td>\n",
       "      <td>-1.972985</td>\n",
       "      <td>0.035543</td>\n",
       "      <td>-0.022680</td>\n",
       "    </tr>\n",
       "  </tbody>\n",
       "</table>\n",
       "</div>"
      ],
      "text/plain": [
       "            Oil Return  Oil_and_Gas_Producers       VIX  Demand_Shock  \\\n",
       "Dates                                                                   \n",
       "2005-03-31    0.128126               0.047681  0.256350      0.050138   \n",
       "2005-04-30   -0.026353              -0.027281 -0.152651     -0.028744   \n",
       "2005-05-31   -0.063149              -0.030208 -1.696425     -0.046464   \n",
       "2005-06-30    0.121575               0.070683 -2.988402      0.042047   \n",
       "2005-07-31    0.044940               0.054450 -1.972985      0.035543   \n",
       "\n",
       "            Supply_Shock  \n",
       "Dates                     \n",
       "2005-03-31      0.054619  \n",
       "2005-04-30      0.015748  \n",
       "2005-05-31     -0.005530  \n",
       "2005-06-30      0.036872  \n",
       "2005-07-31     -0.022680  "
      ]
     },
     "execution_count": 22,
     "metadata": {},
     "output_type": "execute_result"
    }
   ],
   "source": [
    "df1.head()"
   ]
  }
 ],
 "metadata": {
  "kernelspec": {
   "display_name": "Python 3",
   "language": "python",
   "name": "python3"
  },
  "language_info": {
   "codemirror_mode": {
    "name": "ipython",
    "version": 3
   },
   "file_extension": ".py",
   "mimetype": "text/x-python",
   "name": "python",
   "nbconvert_exporter": "python",
   "pygments_lexer": "ipython3",
   "version": "3.10.6"
  }
 },
 "nbformat": 4,
 "nbformat_minor": 2
}
